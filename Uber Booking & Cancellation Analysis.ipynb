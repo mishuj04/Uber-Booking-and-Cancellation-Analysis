{
 "cells": [
  {
   "cell_type": "code",
   "execution_count": 408,
   "id": "e00f271f-c137-4196-b1af-742d9aa322a2",
   "metadata": {},
   "outputs": [],
   "source": [
    "import pandas as pd\n",
    "import matplotlib.pyplot as plt\n",
    "import seaborn as sns\n",
    "sns.set()"
   ]
  },
  {
   "cell_type": "code",
   "execution_count": 409,
   "id": "cc140ed4-6b61-46ab-9d96-84ec0cacc275",
   "metadata": {},
   "outputs": [],
   "source": [
    "df=pd.read_csv('ncr_ride_bookings_uber.csv')"
   ]
  },
  {
   "cell_type": "code",
   "execution_count": 410,
   "id": "ad88b829-39e1-4839-a8c6-58c468f34b00",
   "metadata": {},
   "outputs": [
    {
     "data": {
      "text/html": [
       "<div>\n",
       "<style scoped>\n",
       "    .dataframe tbody tr th:only-of-type {\n",
       "        vertical-align: middle;\n",
       "    }\n",
       "\n",
       "    .dataframe tbody tr th {\n",
       "        vertical-align: top;\n",
       "    }\n",
       "\n",
       "    .dataframe thead th {\n",
       "        text-align: right;\n",
       "    }\n",
       "</style>\n",
       "<table border=\"1\" class=\"dataframe\">\n",
       "  <thead>\n",
       "    <tr style=\"text-align: right;\">\n",
       "      <th></th>\n",
       "      <th>Date</th>\n",
       "      <th>Time</th>\n",
       "      <th>Booking ID</th>\n",
       "      <th>Booking Status</th>\n",
       "      <th>Customer ID</th>\n",
       "      <th>Vehicle Type</th>\n",
       "      <th>Pickup Location</th>\n",
       "      <th>Drop Location</th>\n",
       "      <th>Avg VTAT</th>\n",
       "      <th>Avg CTAT</th>\n",
       "      <th>...</th>\n",
       "      <th>Reason for cancelling by Customer</th>\n",
       "      <th>Cancelled Rides by Driver</th>\n",
       "      <th>Driver Cancellation Reason</th>\n",
       "      <th>Incomplete Rides</th>\n",
       "      <th>Incomplete Rides Reason</th>\n",
       "      <th>Booking Value</th>\n",
       "      <th>Ride Distance</th>\n",
       "      <th>Driver Ratings</th>\n",
       "      <th>Customer Rating</th>\n",
       "      <th>Payment Method</th>\n",
       "    </tr>\n",
       "  </thead>\n",
       "  <tbody>\n",
       "    <tr>\n",
       "      <th>0</th>\n",
       "      <td>2024-03-23</td>\n",
       "      <td>12:29:38</td>\n",
       "      <td>\"CNR5884300\"</td>\n",
       "      <td>No Driver Found</td>\n",
       "      <td>\"CID1982111\"</td>\n",
       "      <td>eBike</td>\n",
       "      <td>Palam Vihar</td>\n",
       "      <td>Jhilmil</td>\n",
       "      <td>NaN</td>\n",
       "      <td>NaN</td>\n",
       "      <td>...</td>\n",
       "      <td>NaN</td>\n",
       "      <td>NaN</td>\n",
       "      <td>NaN</td>\n",
       "      <td>NaN</td>\n",
       "      <td>NaN</td>\n",
       "      <td>NaN</td>\n",
       "      <td>NaN</td>\n",
       "      <td>NaN</td>\n",
       "      <td>NaN</td>\n",
       "      <td>NaN</td>\n",
       "    </tr>\n",
       "    <tr>\n",
       "      <th>1</th>\n",
       "      <td>2024-11-29</td>\n",
       "      <td>18:01:39</td>\n",
       "      <td>\"CNR1326809\"</td>\n",
       "      <td>Incomplete</td>\n",
       "      <td>\"CID4604802\"</td>\n",
       "      <td>Go Sedan</td>\n",
       "      <td>Shastri Nagar</td>\n",
       "      <td>Gurgaon Sector 56</td>\n",
       "      <td>4.9</td>\n",
       "      <td>14.0</td>\n",
       "      <td>...</td>\n",
       "      <td>NaN</td>\n",
       "      <td>NaN</td>\n",
       "      <td>NaN</td>\n",
       "      <td>1.0</td>\n",
       "      <td>Vehicle Breakdown</td>\n",
       "      <td>237.0</td>\n",
       "      <td>5.73</td>\n",
       "      <td>NaN</td>\n",
       "      <td>NaN</td>\n",
       "      <td>UPI</td>\n",
       "    </tr>\n",
       "    <tr>\n",
       "      <th>2</th>\n",
       "      <td>2024-08-23</td>\n",
       "      <td>08:56:10</td>\n",
       "      <td>\"CNR8494506\"</td>\n",
       "      <td>Completed</td>\n",
       "      <td>\"CID9202816\"</td>\n",
       "      <td>Auto</td>\n",
       "      <td>Khandsa</td>\n",
       "      <td>Malviya Nagar</td>\n",
       "      <td>13.4</td>\n",
       "      <td>25.8</td>\n",
       "      <td>...</td>\n",
       "      <td>NaN</td>\n",
       "      <td>NaN</td>\n",
       "      <td>NaN</td>\n",
       "      <td>NaN</td>\n",
       "      <td>NaN</td>\n",
       "      <td>627.0</td>\n",
       "      <td>13.58</td>\n",
       "      <td>4.9</td>\n",
       "      <td>4.9</td>\n",
       "      <td>Debit Card</td>\n",
       "    </tr>\n",
       "    <tr>\n",
       "      <th>3</th>\n",
       "      <td>2024-10-21</td>\n",
       "      <td>17:17:25</td>\n",
       "      <td>\"CNR8906825\"</td>\n",
       "      <td>Completed</td>\n",
       "      <td>\"CID2610914\"</td>\n",
       "      <td>Premier Sedan</td>\n",
       "      <td>Central Secretariat</td>\n",
       "      <td>Inderlok</td>\n",
       "      <td>13.1</td>\n",
       "      <td>28.5</td>\n",
       "      <td>...</td>\n",
       "      <td>NaN</td>\n",
       "      <td>NaN</td>\n",
       "      <td>NaN</td>\n",
       "      <td>NaN</td>\n",
       "      <td>NaN</td>\n",
       "      <td>416.0</td>\n",
       "      <td>34.02</td>\n",
       "      <td>4.6</td>\n",
       "      <td>5.0</td>\n",
       "      <td>UPI</td>\n",
       "    </tr>\n",
       "    <tr>\n",
       "      <th>4</th>\n",
       "      <td>2024-09-16</td>\n",
       "      <td>22:08:00</td>\n",
       "      <td>\"CNR1950162\"</td>\n",
       "      <td>Completed</td>\n",
       "      <td>\"CID9933542\"</td>\n",
       "      <td>Bike</td>\n",
       "      <td>Ghitorni Village</td>\n",
       "      <td>Khan Market</td>\n",
       "      <td>5.3</td>\n",
       "      <td>19.6</td>\n",
       "      <td>...</td>\n",
       "      <td>NaN</td>\n",
       "      <td>NaN</td>\n",
       "      <td>NaN</td>\n",
       "      <td>NaN</td>\n",
       "      <td>NaN</td>\n",
       "      <td>737.0</td>\n",
       "      <td>48.21</td>\n",
       "      <td>4.1</td>\n",
       "      <td>4.3</td>\n",
       "      <td>UPI</td>\n",
       "    </tr>\n",
       "  </tbody>\n",
       "</table>\n",
       "<p>5 rows × 21 columns</p>\n",
       "</div>"
      ],
      "text/plain": [
       "         Date      Time    Booking ID   Booking Status   Customer ID  \\\n",
       "0  2024-03-23  12:29:38  \"CNR5884300\"  No Driver Found  \"CID1982111\"   \n",
       "1  2024-11-29  18:01:39  \"CNR1326809\"       Incomplete  \"CID4604802\"   \n",
       "2  2024-08-23  08:56:10  \"CNR8494506\"        Completed  \"CID9202816\"   \n",
       "3  2024-10-21  17:17:25  \"CNR8906825\"        Completed  \"CID2610914\"   \n",
       "4  2024-09-16  22:08:00  \"CNR1950162\"        Completed  \"CID9933542\"   \n",
       "\n",
       "    Vehicle Type      Pickup Location      Drop Location  Avg VTAT  Avg CTAT  \\\n",
       "0          eBike          Palam Vihar            Jhilmil       NaN       NaN   \n",
       "1       Go Sedan        Shastri Nagar  Gurgaon Sector 56       4.9      14.0   \n",
       "2           Auto              Khandsa      Malviya Nagar      13.4      25.8   \n",
       "3  Premier Sedan  Central Secretariat           Inderlok      13.1      28.5   \n",
       "4           Bike     Ghitorni Village        Khan Market       5.3      19.6   \n",
       "\n",
       "   ...  Reason for cancelling by Customer Cancelled Rides by Driver  \\\n",
       "0  ...                                NaN                       NaN   \n",
       "1  ...                                NaN                       NaN   \n",
       "2  ...                                NaN                       NaN   \n",
       "3  ...                                NaN                       NaN   \n",
       "4  ...                                NaN                       NaN   \n",
       "\n",
       "   Driver Cancellation Reason Incomplete Rides  Incomplete Rides Reason  \\\n",
       "0                         NaN              NaN                      NaN   \n",
       "1                         NaN              1.0        Vehicle Breakdown   \n",
       "2                         NaN              NaN                      NaN   \n",
       "3                         NaN              NaN                      NaN   \n",
       "4                         NaN              NaN                      NaN   \n",
       "\n",
       "  Booking Value  Ride Distance  Driver Ratings  Customer Rating  \\\n",
       "0           NaN            NaN             NaN              NaN   \n",
       "1         237.0           5.73             NaN              NaN   \n",
       "2         627.0          13.58             4.9              4.9   \n",
       "3         416.0          34.02             4.6              5.0   \n",
       "4         737.0          48.21             4.1              4.3   \n",
       "\n",
       "   Payment Method  \n",
       "0             NaN  \n",
       "1             UPI  \n",
       "2      Debit Card  \n",
       "3             UPI  \n",
       "4             UPI  \n",
       "\n",
       "[5 rows x 21 columns]"
      ]
     },
     "execution_count": 410,
     "metadata": {},
     "output_type": "execute_result"
    }
   ],
   "source": [
    "df.head()"
   ]
  },
  {
   "cell_type": "code",
   "execution_count": 411,
   "id": "c753698b-f9dd-4204-a3aa-df32cc3c78a4",
   "metadata": {},
   "outputs": [
    {
     "data": {
      "text/plain": [
       "Date                                      0\n",
       "Time                                      0\n",
       "Booking ID                                0\n",
       "Booking Status                            0\n",
       "Customer ID                               0\n",
       "Vehicle Type                              0\n",
       "Pickup Location                           0\n",
       "Drop Location                             0\n",
       "Avg VTAT                              10500\n",
       "Avg CTAT                              48000\n",
       "Cancelled Rides by Customer          139500\n",
       "Reason for cancelling by Customer    139500\n",
       "Cancelled Rides by Driver            123000\n",
       "Driver Cancellation Reason           123000\n",
       "Incomplete Rides                     141000\n",
       "Incomplete Rides Reason              141000\n",
       "Booking Value                         48000\n",
       "Ride Distance                         48000\n",
       "Driver Ratings                        57000\n",
       "Customer Rating                       57000\n",
       "Payment Method                        48000\n",
       "dtype: int64"
      ]
     },
     "execution_count": 411,
     "metadata": {},
     "output_type": "execute_result"
    }
   ],
   "source": [
    "df.isnull().sum()"
   ]
  },
  {
   "cell_type": "code",
   "execution_count": 412,
   "id": "5d9a1d58-4665-4263-9a76-ccf46c6128cb",
   "metadata": {},
   "outputs": [],
   "source": [
    "df['Payment Method']=df['Payment Method'].fillna(df['Payment Method'].mode())"
   ]
  },
  {
   "cell_type": "code",
   "execution_count": 413,
   "id": "7370f7af-3e78-4e9f-b6ae-70b2945b6890",
   "metadata": {},
   "outputs": [],
   "source": [
    "df['Incomplete Rides'] = df['Incomplete Rides'].astype('object')"
   ]
  },
  {
   "cell_type": "code",
   "execution_count": 414,
   "id": "fb4480b0-ce8c-4f95-9b57-4d7ca0f80689",
   "metadata": {},
   "outputs": [],
   "source": [
    "df.loc[\n",
    "    (df['Booking Status'] == 'Completed') & (df['Incomplete Rides'].isna()),\n",
    "    'Incomplete Rides'\n",
    "] = 'Not Cancelled'\n"
   ]
  },
  {
   "cell_type": "code",
   "execution_count": 415,
   "id": "73589861-b6bd-45a4-a6da-3eabf55b2e70",
   "metadata": {},
   "outputs": [
    {
     "data": {
      "text/plain": [
       "4.404583870967742"
      ]
     },
     "execution_count": 415,
     "metadata": {},
     "output_type": "execute_result"
    }
   ],
   "source": [
    "df['Customer Rating'].mean()"
   ]
  },
  {
   "cell_type": "code",
   "execution_count": 416,
   "id": "c7638064-c18e-475c-8ad8-9bca39ddb45c",
   "metadata": {},
   "outputs": [
    {
     "data": {
      "text/plain": [
       "4.5"
      ]
     },
     "execution_count": 416,
     "metadata": {},
     "output_type": "execute_result"
    }
   ],
   "source": [
    "df['Customer Rating'].median()"
   ]
  },
  {
   "cell_type": "code",
   "execution_count": 417,
   "id": "677077e2-ef07-433a-b804-5ea75e23bfcf",
   "metadata": {},
   "outputs": [],
   "source": [
    "df['Customer Rating'] = df['Customer Rating'].astype('object')"
   ]
  },
  {
   "cell_type": "code",
   "execution_count": 418,
   "id": "dd1ce238-cadc-4086-affa-ff8f1c047471",
   "metadata": {},
   "outputs": [],
   "source": [
    "df.loc[\n",
    "    (df['Booking Status'] == 'Completed') & (df['Customer Rating'].isna()),\n",
    "    'Customer Rating'\n",
    "] = df['Customer Rating'].mean().round(1)"
   ]
  },
  {
   "cell_type": "code",
   "execution_count": 419,
   "id": "932f02dd-1519-4268-b50a-f3389b02782e",
   "metadata": {},
   "outputs": [],
   "source": [
    "df.loc[\n",
    "    (\n",
    "        (df['Booking Status'] == 'Incomplete') | \n",
    "        (df['Booking Status'] == 'No Driver Found') |\n",
    "        (df['Booking Status'] == 'Cancelled by Driver') |\n",
    "        (df['Booking Status'] == 'Cancelled by Customer') \n",
    "    ) & (df['Customer Rating'].isna()),\n",
    "    'Customer Rating'\n",
    "] = 0\n"
   ]
  },
  {
   "cell_type": "code",
   "execution_count": 420,
   "id": "23d1c160-46f2-40f9-91f4-8e9afc346f09",
   "metadata": {},
   "outputs": [
    {
     "data": {
      "text/plain": [
       "array([nan, 'Vehicle Breakdown', 'Other Issue', 'Customer Demand'],\n",
       "      dtype=object)"
      ]
     },
     "execution_count": 420,
     "metadata": {},
     "output_type": "execute_result"
    }
   ],
   "source": [
    "df['Incomplete Rides Reason'].unique()"
   ]
  },
  {
   "cell_type": "code",
   "execution_count": 421,
   "id": "32ee38e5-e2d5-4541-bdc2-bf249cf5b146",
   "metadata": {},
   "outputs": [],
   "source": [
    "df['Incomplete Rides Reason'] = df['Incomplete Rides Reason'].astype('object')"
   ]
  },
  {
   "cell_type": "code",
   "execution_count": 422,
   "id": "b0dd24a1-a573-40d1-bd1a-d43bdae6fa5d",
   "metadata": {},
   "outputs": [],
   "source": [
    "df.loc[\n",
    "    (df['Booking Status'] == 'Completed') & (df['Incomplete Rides Reason'].isna()),\n",
    "    'Incomplete Rides Reason'\n",
    "] = 'Completed'"
   ]
  },
  {
   "cell_type": "code",
   "execution_count": 423,
   "id": "c0390b59-f86e-4bde-bc05-5d3c4c0c2c3d",
   "metadata": {},
   "outputs": [],
   "source": [
    "df.loc[\n",
    "    (\n",
    "        (df['Booking Status'] == 'Incomplete')  \n",
    "    ) & (df['Incomplete Rides Reason'].isna()),\n",
    "    'Incomplete Rides Reason'\n",
    "] = df['Incomplete Rides Reason'].mode()[0]"
   ]
  },
  {
   "cell_type": "code",
   "execution_count": 424,
   "id": "2fc7da95-0c19-4c00-acf4-cb3269dea54f",
   "metadata": {},
   "outputs": [],
   "source": [
    "df.loc[\n",
    "    (\n",
    "        (df['Booking Status'] == 'No Driver Found')  \n",
    "    ) & (df['Incomplete Rides Reason'].isna()),\n",
    "    'Incomplete Rides Reason'\n",
    "] = 'No Driver Found'"
   ]
  },
  {
   "cell_type": "code",
   "execution_count": 425,
   "id": "5d0d1ceb-e7db-4c58-aaaa-7afecc869338",
   "metadata": {},
   "outputs": [],
   "source": [
    "df.loc[\n",
    "    (\n",
    "        (df['Booking Status'] == 'Cancelled by Driver')  \n",
    "    ) & (df['Incomplete Rides Reason'].isna()),\n",
    "    'Incomplete Rides Reason'\n",
    "] = df['Incomplete Rides Reason'].mode()[0]"
   ]
  },
  {
   "cell_type": "code",
   "execution_count": 426,
   "id": "2fa7f5cc-6414-4bd9-ac3c-9d27492034dd",
   "metadata": {},
   "outputs": [],
   "source": [
    "df.loc[\n",
    "    (\n",
    "        (df['Booking Status'] == 'Cancelled by Customer')  \n",
    "    ) & (df['Incomplete Rides Reason'].isna()),\n",
    "    'Incomplete Rides Reason'\n",
    "] = 'Cancelled by Customer'"
   ]
  },
  {
   "cell_type": "code",
   "execution_count": 427,
   "id": "d90ffe18-20dc-423f-b912-d76c5815b96e",
   "metadata": {},
   "outputs": [
    {
     "data": {
      "text/plain": [
       "4.230992473118278"
      ]
     },
     "execution_count": 427,
     "metadata": {},
     "output_type": "execute_result"
    }
   ],
   "source": [
    "df['Driver Ratings'].mean()"
   ]
  },
  {
   "cell_type": "code",
   "execution_count": 428,
   "id": "3cee3b2a-5323-409d-aa44-64daeec31952",
   "metadata": {},
   "outputs": [
    {
     "data": {
      "text/plain": [
       "4.3"
      ]
     },
     "execution_count": 428,
     "metadata": {},
     "output_type": "execute_result"
    }
   ],
   "source": [
    "df['Driver Ratings'].median()"
   ]
  },
  {
   "cell_type": "code",
   "execution_count": 429,
   "id": "761eb611-b0ca-4141-a617-b10cde9ebc3d",
   "metadata": {},
   "outputs": [],
   "source": [
    "df['Driver Ratings'] = df['Driver Ratings'].astype('object')"
   ]
  },
  {
   "cell_type": "code",
   "execution_count": 430,
   "id": "378b0a3b-e9df-4651-b4a7-fefbeb32cbb6",
   "metadata": {},
   "outputs": [],
   "source": [
    "df.loc[\n",
    "    (df['Booking Status'] == 'Completed') & (df['Driver Ratings'].isna()),\n",
    "    'Driver Ratings'\n",
    "] = df['Driver Ratings'].mean().round(1)"
   ]
  },
  {
   "cell_type": "code",
   "execution_count": 431,
   "id": "5cf52450-7ee1-42a8-a9ff-e03732d3e466",
   "metadata": {},
   "outputs": [],
   "source": [
    "df.loc[\n",
    "    (\n",
    "        (df['Booking Status'] == 'Incomplete') | \n",
    "        (df['Booking Status'] == 'No Driver Found') |\n",
    "        (df['Booking Status'] == 'Cancelled by Driver') |\n",
    "        (df['Booking Status'] == 'Cancelled by Customer')\n",
    "    ) & (df['Driver Ratings'].isna()),\n",
    "    'Driver Ratings'\n",
    "] = 0"
   ]
  },
  {
   "cell_type": "code",
   "execution_count": 432,
   "id": "aded21e9-3bc7-4906-af4f-d2d344fcb271",
   "metadata": {},
   "outputs": [
    {
     "data": {
      "text/plain": [
       "24.637011666666666"
      ]
     },
     "execution_count": 432,
     "metadata": {},
     "output_type": "execute_result"
    }
   ],
   "source": [
    "df['Ride Distance'].mean()"
   ]
  },
  {
   "cell_type": "code",
   "execution_count": 433,
   "id": "bd81401b-2cb8-4da0-b83b-13094efb6152",
   "metadata": {},
   "outputs": [
    {
     "data": {
      "text/plain": [
       "23.72"
      ]
     },
     "execution_count": 433,
     "metadata": {},
     "output_type": "execute_result"
    }
   ],
   "source": [
    "df['Ride Distance'].median()"
   ]
  },
  {
   "cell_type": "code",
   "execution_count": 434,
   "id": "c97265b7-a5e1-4c7f-9803-3acfb409ce61",
   "metadata": {},
   "outputs": [],
   "source": [
    "df['Ride Distance']=df['Ride Distance'].fillna(df['Ride Distance'].mean()).round(2)"
   ]
  },
  {
   "cell_type": "code",
   "execution_count": 435,
   "id": "3a0a10eb-f6a1-48e1-9d78-b92e8b182986",
   "metadata": {},
   "outputs": [
    {
     "data": {
      "text/plain": [
       "Date                                      0\n",
       "Time                                      0\n",
       "Booking ID                                0\n",
       "Booking Status                            0\n",
       "Customer ID                               0\n",
       "Vehicle Type                              0\n",
       "Pickup Location                           0\n",
       "Drop Location                             0\n",
       "Avg VTAT                              10500\n",
       "Avg CTAT                              48000\n",
       "Cancelled Rides by Customer          139500\n",
       "Reason for cancelling by Customer    139500\n",
       "Cancelled Rides by Driver            123000\n",
       "Driver Cancellation Reason           123000\n",
       "Incomplete Rides                      48000\n",
       "Incomplete Rides Reason                   0\n",
       "Booking Value                         48000\n",
       "Ride Distance                             0\n",
       "Driver Ratings                            0\n",
       "Customer Rating                           0\n",
       "Payment Method                        47999\n",
       "dtype: int64"
      ]
     },
     "execution_count": 435,
     "metadata": {},
     "output_type": "execute_result"
    }
   ],
   "source": [
    "df.isnull().sum()"
   ]
  },
  {
   "cell_type": "code",
   "execution_count": 436,
   "id": "80044945-025d-41ed-9104-109f00f1ed10",
   "metadata": {},
   "outputs": [
    {
     "data": {
      "text/plain": [
       "array(['UPI', 'Debit Card', nan, 'Cash', 'Uber Wallet', 'Credit Card'],\n",
       "      dtype=object)"
      ]
     },
     "execution_count": 436,
     "metadata": {},
     "output_type": "execute_result"
    }
   ],
   "source": [
    "df['Payment Method'].unique()"
   ]
  },
  {
   "cell_type": "code",
   "execution_count": 437,
   "id": "97871f2e-a457-4e2d-9098-ccd68b56c7da",
   "metadata": {},
   "outputs": [],
   "source": [
    "df['Payment Method'] = df['Payment Method'].astype('object')"
   ]
  },
  {
   "cell_type": "code",
   "execution_count": 438,
   "id": "3f2831e1-6ee1-45cd-9d75-1084e659b297",
   "metadata": {},
   "outputs": [],
   "source": [
    "df.loc[\n",
    "    (df['Booking Status'] == 'Completed') & (df['Payment Method'].isna()),\n",
    "    'Payment Method'\n",
    "] = df['Payment Method'].mode()[0]"
   ]
  },
  {
   "cell_type": "code",
   "execution_count": 439,
   "id": "db8328e0-77c0-481d-b8d0-e0392afdfaf8",
   "metadata": {},
   "outputs": [],
   "source": [
    "df.loc[\n",
    "    (\n",
    "        (df['Booking Status'] == 'Incomplete') | \n",
    "        (df['Booking Status'] == 'No Driver Found') |\n",
    "        (df['Booking Status'] == 'Cancelled by Driver') |\n",
    "        (df['Booking Status'] == 'Cancelled by Customer')\n",
    "    ) & (df['Payment Method'].isna()),\n",
    "    'Payment Method'\n",
    "] = 'Not Paid as Ride Cancelled'"
   ]
  },
  {
   "cell_type": "code",
   "execution_count": 440,
   "id": "68e25c74-9464-4501-b81c-4ba7b877a772",
   "metadata": {},
   "outputs": [
    {
     "data": {
      "text/plain": [
       "508.29591176470586"
      ]
     },
     "execution_count": 440,
     "metadata": {},
     "output_type": "execute_result"
    }
   ],
   "source": [
    "df['Booking Value'].mean()"
   ]
  },
  {
   "cell_type": "code",
   "execution_count": 441,
   "id": "92078dfa-32f6-448b-bd93-d6ad93bf353c",
   "metadata": {},
   "outputs": [
    {
     "data": {
      "text/plain": [
       "414.0"
      ]
     },
     "execution_count": 441,
     "metadata": {},
     "output_type": "execute_result"
    }
   ],
   "source": [
    "df['Booking Value'].median()"
   ]
  },
  {
   "cell_type": "code",
   "execution_count": 442,
   "id": "bb701939-502c-4d6e-b766-8361d5ec5147",
   "metadata": {},
   "outputs": [],
   "source": [
    "df['Booking Value']=df['Booking Value'].fillna(df['Booking Value'].median())"
   ]
  },
  {
   "cell_type": "code",
   "execution_count": 443,
   "id": "7b90743a-4a6d-4738-8e37-53bcda9fedd4",
   "metadata": {},
   "outputs": [
    {
     "data": {
      "text/plain": [
       "array([nan, 1.0, 'Not Cancelled'], dtype=object)"
      ]
     },
     "execution_count": 443,
     "metadata": {},
     "output_type": "execute_result"
    }
   ],
   "source": [
    "df['Incomplete Rides'].unique()"
   ]
  },
  {
   "cell_type": "code",
   "execution_count": 444,
   "id": "ab9d59a4-d773-4a03-835f-5e5699f34a79",
   "metadata": {},
   "outputs": [],
   "source": [
    "df['Incomplete Rides']=df['Incomplete Rides'].fillna(0.)"
   ]
  },
  {
   "cell_type": "code",
   "execution_count": 445,
   "id": "1ee5c784-1ce3-4eef-8ffa-f3d2a4b3e9da",
   "metadata": {},
   "outputs": [
    {
     "data": {
      "text/plain": [
       "array([0.0, 1.0, 'Not Cancelled'], dtype=object)"
      ]
     },
     "execution_count": 445,
     "metadata": {},
     "output_type": "execute_result"
    }
   ],
   "source": [
    "df['Incomplete Rides'].unique()"
   ]
  },
  {
   "cell_type": "code",
   "execution_count": 446,
   "id": "dde6c979-a503-4d1c-9785-251066b113b8",
   "metadata": {},
   "outputs": [
    {
     "data": {
      "text/plain": [
       "Date                                      0\n",
       "Time                                      0\n",
       "Booking ID                                0\n",
       "Booking Status                            0\n",
       "Customer ID                               0\n",
       "Vehicle Type                              0\n",
       "Pickup Location                           0\n",
       "Drop Location                             0\n",
       "Avg VTAT                              10500\n",
       "Avg CTAT                              48000\n",
       "Cancelled Rides by Customer          139500\n",
       "Reason for cancelling by Customer    139500\n",
       "Cancelled Rides by Driver            123000\n",
       "Driver Cancellation Reason           123000\n",
       "Incomplete Rides                          0\n",
       "Incomplete Rides Reason                   0\n",
       "Booking Value                             0\n",
       "Ride Distance                             0\n",
       "Driver Ratings                            0\n",
       "Customer Rating                           0\n",
       "Payment Method                            0\n",
       "dtype: int64"
      ]
     },
     "execution_count": 446,
     "metadata": {},
     "output_type": "execute_result"
    }
   ],
   "source": [
    "df.isnull().sum()"
   ]
  },
  {
   "cell_type": "code",
   "execution_count": 447,
   "id": "8bb7da44-5580-461a-9a23-8b9bbf9847c4",
   "metadata": {},
   "outputs": [
    {
     "data": {
      "text/plain": [
       "array([nan, 'Personal & Car related issues', 'Customer related issue',\n",
       "       'More than permitted people in there',\n",
       "       'The customer was coughing/sick'], dtype=object)"
      ]
     },
     "execution_count": 447,
     "metadata": {},
     "output_type": "execute_result"
    }
   ],
   "source": [
    "df['Driver Cancellation Reason'].unique()"
   ]
  },
  {
   "cell_type": "code",
   "execution_count": 448,
   "id": "36583c5d-ea42-45b8-84e8-6d9b0861e777",
   "metadata": {},
   "outputs": [],
   "source": [
    "df['Driver Cancellation Reason'] = df['Driver Cancellation Reason'].astype('object')"
   ]
  },
  {
   "cell_type": "code",
   "execution_count": 449,
   "id": "fddf7615-9b52-4847-b3e9-833f3f2f0d43",
   "metadata": {},
   "outputs": [],
   "source": [
    "df.loc[\n",
    "    (df['Booking Status'] == 'Completed') & (df['Driver Cancellation Reason'].isna()),\n",
    "    'Driver Cancellation Reason'\n",
    "] = 'Not Cancelled'"
   ]
  },
  {
   "cell_type": "code",
   "execution_count": 450,
   "id": "f905531d-aad1-42e5-ba41-2c0537d7f26e",
   "metadata": {},
   "outputs": [],
   "source": [
    "df.loc[\n",
    "    (\n",
    "        (df['Booking Status'] == 'Incomplete') | \n",
    "        (df['Booking Status'] == 'No Driver Found') |\n",
    "        (df['Booking Status'] == 'Cancelled by Driver') |\n",
    "        (df['Booking Status'] == 'Cancelled by Customer')\n",
    "    ) & (df['Driver Cancellation Reason'].isna()),\n",
    "    'Driver Cancellation Reason'\n",
    "] = 'No Reason Mentioned'"
   ]
  },
  {
   "cell_type": "code",
   "execution_count": 451,
   "id": "8f58765a-59c2-4bab-af54-79583be43271",
   "metadata": {},
   "outputs": [
    {
     "data": {
      "text/plain": [
       "array([nan,  1.])"
      ]
     },
     "execution_count": 451,
     "metadata": {},
     "output_type": "execute_result"
    }
   ],
   "source": [
    "df['Cancelled Rides by Driver'].unique()"
   ]
  },
  {
   "cell_type": "code",
   "execution_count": 452,
   "id": "c8228e4e-b448-4000-b046-4f7ee3e1bf04",
   "metadata": {},
   "outputs": [],
   "source": [
    "df['Cancelled Rides by Driver']=df['Cancelled Rides by Driver'].fillna(0.)"
   ]
  },
  {
   "cell_type": "code",
   "execution_count": 453,
   "id": "9f24bf46-a8bc-4289-825f-bbd33f3405c5",
   "metadata": {},
   "outputs": [
    {
     "data": {
      "text/plain": [
       "array([0., 1.])"
      ]
     },
     "execution_count": 453,
     "metadata": {},
     "output_type": "execute_result"
    }
   ],
   "source": [
    "df['Cancelled Rides by Driver'].unique()"
   ]
  },
  {
   "cell_type": "code",
   "execution_count": 454,
   "id": "f25d0477-2779-4671-9c57-6bb46990e5dc",
   "metadata": {},
   "outputs": [
    {
     "data": {
      "text/plain": [
       "array([nan, 'Driver is not moving towards pickup location',\n",
       "       'Driver asked to cancel', 'AC is not working', 'Change of plans',\n",
       "       'Wrong Address'], dtype=object)"
      ]
     },
     "execution_count": 454,
     "metadata": {},
     "output_type": "execute_result"
    }
   ],
   "source": [
    "df['Reason for cancelling by Customer'].unique()"
   ]
  },
  {
   "cell_type": "code",
   "execution_count": 455,
   "id": "d3121294-c8b3-42e4-9a5a-140611584316",
   "metadata": {},
   "outputs": [],
   "source": [
    "df['Reason for cancelling by Customer'] = df['Reason for cancelling by Customer'].astype('object')"
   ]
  },
  {
   "cell_type": "code",
   "execution_count": 456,
   "id": "36286855-8778-49d1-bf4a-e61125e41464",
   "metadata": {},
   "outputs": [],
   "source": [
    "df.loc[\n",
    "    (df['Booking Status'] == 'Completed') & (df['Reason for cancelling by Customer'].isna()),\n",
    "    'Reason for cancelling by Customer'\n",
    "] = 'Not Cancelled'"
   ]
  },
  {
   "cell_type": "code",
   "execution_count": 457,
   "id": "71d1bf3b-5515-43b4-abec-7603bf5f706e",
   "metadata": {},
   "outputs": [],
   "source": [
    "df.loc[\n",
    "    (\n",
    "        (df['Booking Status'] == 'Incomplete') | \n",
    "        (df['Booking Status'] == 'No Driver Found') |\n",
    "        (df['Booking Status'] == 'Cancelled by Driver') |\n",
    "        (df['Booking Status'] == 'Cancelled by Customer')\n",
    "    ) & (df['Reason for cancelling by Customer'].isna()),\n",
    "    'Reason for cancelling by Customer'\n",
    "] = 'No Reason Mentioned'"
   ]
  },
  {
   "cell_type": "code",
   "execution_count": 458,
   "id": "70e7df98-b4f1-482a-8dea-75f92baed51c",
   "metadata": {},
   "outputs": [
    {
     "data": {
      "text/plain": [
       "array([nan,  1.])"
      ]
     },
     "execution_count": 458,
     "metadata": {},
     "output_type": "execute_result"
    }
   ],
   "source": [
    "df['Cancelled Rides by Customer'].unique()"
   ]
  },
  {
   "cell_type": "code",
   "execution_count": 459,
   "id": "f951065a-4247-48f6-80c2-e690753e2f2e",
   "metadata": {},
   "outputs": [],
   "source": [
    "df['Cancelled Rides by Customer']=df['Cancelled Rides by Customer'].fillna(0.)"
   ]
  },
  {
   "cell_type": "code",
   "execution_count": 460,
   "id": "edc518f6-e75d-4221-9acf-0c98979cddbd",
   "metadata": {},
   "outputs": [
    {
     "data": {
      "text/plain": [
       "29.149636274509803"
      ]
     },
     "execution_count": 460,
     "metadata": {},
     "output_type": "execute_result"
    }
   ],
   "source": [
    "df['Avg CTAT'].mean()"
   ]
  },
  {
   "cell_type": "code",
   "execution_count": 461,
   "id": "27306d1e-f2d8-4a78-8bad-f2d967fec2d6",
   "metadata": {},
   "outputs": [
    {
     "data": {
      "text/plain": [
       "28.8"
      ]
     },
     "execution_count": 461,
     "metadata": {},
     "output_type": "execute_result"
    }
   ],
   "source": [
    "df['Avg CTAT'].median()"
   ]
  },
  {
   "cell_type": "code",
   "execution_count": 462,
   "id": "cc994c8d-a55b-4a53-bf4d-3c5ab1ec9384",
   "metadata": {},
   "outputs": [],
   "source": [
    "df['Avg CTAT']=df['Avg CTAT'].fillna(df['Avg CTAT'].mean()).round(1)"
   ]
  },
  {
   "cell_type": "code",
   "execution_count": 463,
   "id": "6affa340-3052-46c9-b5de-4fb2a4245339",
   "metadata": {},
   "outputs": [
    {
     "data": {
      "text/plain": [
       "8.456351971326164"
      ]
     },
     "execution_count": 463,
     "metadata": {},
     "output_type": "execute_result"
    }
   ],
   "source": [
    "df['Avg VTAT'].mean()"
   ]
  },
  {
   "cell_type": "code",
   "execution_count": 464,
   "id": "c3f23c51-6af5-42d2-bd1e-1358fe6546a3",
   "metadata": {},
   "outputs": [
    {
     "data": {
      "text/plain": [
       "8.3"
      ]
     },
     "execution_count": 464,
     "metadata": {},
     "output_type": "execute_result"
    }
   ],
   "source": [
    "df['Avg VTAT'].median()"
   ]
  },
  {
   "cell_type": "code",
   "execution_count": 465,
   "id": "eb02888d-878f-42d4-8c7e-d3c0d97e0353",
   "metadata": {},
   "outputs": [],
   "source": [
    "df['Avg VTAT']=df['Avg VTAT'].fillna(df['Avg VTAT'].mean()).round(1)"
   ]
  },
  {
   "cell_type": "code",
   "execution_count": 466,
   "id": "c46d64c4-b46a-4a7a-bde2-dd6f3684fed5",
   "metadata": {},
   "outputs": [
    {
     "data": {
      "text/plain": [
       "Date                                 0\n",
       "Time                                 0\n",
       "Booking ID                           0\n",
       "Booking Status                       0\n",
       "Customer ID                          0\n",
       "Vehicle Type                         0\n",
       "Pickup Location                      0\n",
       "Drop Location                        0\n",
       "Avg VTAT                             0\n",
       "Avg CTAT                             0\n",
       "Cancelled Rides by Customer          0\n",
       "Reason for cancelling by Customer    0\n",
       "Cancelled Rides by Driver            0\n",
       "Driver Cancellation Reason           0\n",
       "Incomplete Rides                     0\n",
       "Incomplete Rides Reason              0\n",
       "Booking Value                        0\n",
       "Ride Distance                        0\n",
       "Driver Ratings                       0\n",
       "Customer Rating                      0\n",
       "Payment Method                       0\n",
       "dtype: int64"
      ]
     },
     "execution_count": 466,
     "metadata": {},
     "output_type": "execute_result"
    }
   ],
   "source": [
    "df.isnull().sum()"
   ]
  },
  {
   "cell_type": "code",
   "execution_count": 467,
   "id": "964b09ea-3594-4b25-a53d-cad7850cdaf7",
   "metadata": {},
   "outputs": [
    {
     "data": {
      "text/plain": [
       "array(['No Reason Mentioned', 'Not Cancelled',\n",
       "       'Driver is not moving towards pickup location',\n",
       "       'Driver asked to cancel', 'AC is not working', 'Change of plans',\n",
       "       'Wrong Address'], dtype=object)"
      ]
     },
     "execution_count": 467,
     "metadata": {},
     "output_type": "execute_result"
    }
   ],
   "source": [
    "df['Reason for cancelling by Customer'].unique()"
   ]
  },
  {
   "cell_type": "code",
   "execution_count": 468,
   "id": "ec6a019a-7e56-4fde-a063-a821b948619d",
   "metadata": {},
   "outputs": [
    {
     "data": {
      "text/plain": [
       "array(['No Driver Found', 'Incomplete', 'Completed',\n",
       "       'Cancelled by Driver', 'Cancelled by Customer'], dtype=object)"
      ]
     },
     "execution_count": 468,
     "metadata": {},
     "output_type": "execute_result"
    }
   ],
   "source": [
    "df['Booking Status'].unique()"
   ]
  },
  {
   "cell_type": "code",
   "execution_count": 470,
   "id": "1ce64055-9f05-4d38-9676-f8d6bee99ec0",
   "metadata": {},
   "outputs": [],
   "source": [
    "df.to_csv('New_Data_Uber.csv', index=False)"
   ]
  }
 ],
 "metadata": {
  "kernelspec": {
   "display_name": "Python 3 (ipykernel)",
   "language": "python",
   "name": "python3"
  },
  "language_info": {
   "codemirror_mode": {
    "name": "ipython",
    "version": 3
   },
   "file_extension": ".py",
   "mimetype": "text/x-python",
   "name": "python",
   "nbconvert_exporter": "python",
   "pygments_lexer": "ipython3",
   "version": "3.12.7"
  }
 },
 "nbformat": 4,
 "nbformat_minor": 5
}
